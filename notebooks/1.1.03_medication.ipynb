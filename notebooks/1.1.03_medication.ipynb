{
 "cells": [
  {
   "cell_type": "code",
   "execution_count": null,
   "metadata": {},
   "outputs": [],
   "source": [
    "%load_ext autoreload\n",
    "%autoreload 2\n",
    "%aimport utils_1_1\n",
    "\n",
    "import pandas as pd\n",
    "import numpy as np\n",
    "import altair as alt\n",
    "from altair_saver import save\n",
    "\n",
    "from constants_1_1 import SITE_FILE_TYPES\n",
    "from utils_1_1 import (\n",
    "    read_loinc_df,\n",
    "    get_site_file_paths,\n",
    "    get_site_file_info,\n",
    "    get_site_ids,\n",
    "    read_full_med_df,\n",
    "    get_visualization_subtitle,\n",
    "    apply_theme,\n",
    "    get_anonymousid_color_maps\n",
    ")\n",
    "from web import for_website\n",
    "\n",
    "alt.data_transformers.disable_max_rows() # Allow using rows more than 5000"
   ]
  },
  {
   "cell_type": "code",
   "execution_count": null,
   "metadata": {},
   "outputs": [],
   "source": [
    "df = read_full_med_df()\n",
    "df.head()"
   ]
  },
  {
   "cell_type": "code",
   "execution_count": null,
   "metadata": {},
   "outputs": [],
   "source": [
    "def preprocess_df(df):\n",
    "    \n",
    "    # Negative values to zeros\n",
    "    df.loc[df['num_patients_all_before_admission'] < 0, 'num_patients_all_before_admission'] = 0\n",
    "    df.loc[df['num_patients_all_since_admission'] < 0, 'num_patients_all_since_admission'] = 0\n",
    "    df.loc[df['num_patients_ever_severe_before_admission'] < 0, 'num_patients_ever_severe_before_admission'] = 0\n",
    "    df.loc[df['num_patients_ever_severe_since_admission'] < 0, 'num_patients_ever_severe_since_admission'] = 0\n",
    "    \n",
    "    # Wide to long\n",
    "    df = pd.melt(df, id_vars=[\n",
    "        'siteid', \n",
    "        'med_class'\n",
    "    ])\n",
    "    df = df.rename(columns={\"variable\": 'category', \"value\": 'num_patients'})\n",
    "    \n",
    "    df['siteid'] = df['siteid'].apply(lambda x: get_siteid_anonymous_map()[x])\n",
    "    \n",
    "    return df"
   ]
  },
  {
   "cell_type": "code",
   "execution_count": null,
   "metadata": {},
   "outputs": [],
   "source": [
    "pdf = preprocess_df(df)\n",
    "pdf.head()"
   ]
  },
  {
   "cell_type": "code",
   "execution_count": null,
   "metadata": {},
   "outputs": [],
   "source": [
    "unique_med_class = pdf['med_class'].unique().tolist()\n",
    "input_dropdown = alt.binding_select(options=unique_med_class)\n",
    "selection = alt.selection_single(fields=['med_class'], bind=input_dropdown, name='Med Class ', init={'med_class': unique_med_class[0]})\n",
    "# legend_selection = alt.selection_multi(fields=[\"Country\"], bind=\"legend\")\n",
    "\n",
    "# COUNTRIES = [\"All countries\", \"France\", \"Germany\", \"Italy\", \"USA\", \"Within site variation\"]\n",
    "# COUNTRY_COLOR = [\"#444444\", \"#0072B2\", \"#E69F00\", \"#009E73\", \"#D55E00\", \"#444444\"]\n",
    "# color_scale = alt.Scale(domain=COUNTRIES, range=COUNTRY_COLOR)\n",
    "tick_size = 40\n",
    "\n",
    "base = alt.Chart(pdf).mark_bar(size=tick_size).encode(\n",
    "#     x=alt.Y('Country:N'),\n",
    "#     color=alt.Color('Country:N', scale=color_scale, title=None),\n",
    "#     stroke=alt.Color('Country:N', scale=color_scale),\n",
    "    strokeWidth=alt.value(1),\n",
    "    y=alt.Y('min(num_patients_ever_severe_before_admission):Q', title='Mean (SD)'),\n",
    "    y2=alt.Y2('max(num_patients_ever_severe_before_admission):Q'),\n",
    "#     tooltip=[\n",
    "#         alt.Tooltip(\"Country\", title=\"Category\"),\n",
    "#         alt.Tooltip(\"mean_val\", title=\"Mean\", format=\".2f\"),\n",
    "#         alt.Tooltip(\"stdev_val\", title=\"Standard deviation\", format=\".2f\"),\n",
    "#         alt.Tooltip(\"days_since_positive\", title=\"Days since positive\")\n",
    "#     ]\n",
    ")\n",
    "\n",
    "mean = alt.Chart(pdf).mark_tick(size=tick_size, thickness=2).encode(\n",
    "#     x=alt.X('Country:N', title=None),\n",
    "    opacity=alt.value(1),\n",
    "    color=alt.value('white'),\n",
    "    y=alt.Y('mean(num_patients_ever_severe_before_admission):Q')\n",
    ")\n",
    "\n",
    "plot = (\n",
    "    alt.layer(base, mean)\n",
    "    .add_selection(selection)\n",
    "#     .add_selection(legend_selection)\n",
    "    .transform_filter(selection)\n",
    "#     .transform_filter(legend_selection)\n",
    "#     .transform_filter(alt.FieldOneOfPredicate(field='Country', oneOf=COUNTRIES))\n",
    "#     .transform_calculate(y='datum.mean_val + datum.stdev_val',y2='datum.mean_val - datum.stdev_val')\n",
    "    .properties(\n",
    "        title={\n",
    "            \"text\": [\"Medications\"], \n",
    "            \"dx\": 50,\n",
    "            \"subtitle\": get_visualization_subtitle(),\n",
    "            \"subtitleColor\": \"gray\",\n",
    "            \"anchor\": \"middle\",\n",
    "        },\n",
    "        width=350, height=400\n",
    "    )\n",
    ")\n",
    "\n",
    "\n",
    "\n",
    "plot = apply_theme(plot)\n",
    "\n",
    "# for_website(plot, \"Labs\", \"Lab variation across sites on Day 0\")\n",
    "\n",
    "plot"
   ]
  },
  {
   "cell_type": "code",
   "execution_count": null,
   "metadata": {},
   "outputs": [],
   "source": []
  }
 ],
 "metadata": {
  "kernelspec": {
   "display_name": "Python 3",
   "language": "python",
   "name": "python3"
  },
  "language_info": {
   "codemirror_mode": {
    "name": "ipython",
    "version": 3
   },
   "file_extension": ".py",
   "mimetype": "text/x-python",
   "name": "python",
   "nbconvert_exporter": "python",
   "pygments_lexer": "ipython3",
   "version": "3.8.3"
  }
 },
 "nbformat": 4,
 "nbformat_minor": 4
}

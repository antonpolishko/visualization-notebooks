{
 "cells": [
  {
   "cell_type": "code",
   "execution_count": null,
   "metadata": {},
   "outputs": [],
   "source": [
    "%load_ext autoreload\n",
    "%autoreload 2\n",
    "%aimport utils_1_1\n",
    "\n",
    "import pandas as pd\n",
    "import numpy as np\n",
    "import altair as alt\n",
    "from altair_saver import save\n",
    "\n",
    "from constants_1_1 import SITE_FILE_TYPES\n",
    "from utils_1_1 import (\n",
    "    read_loinc_df,\n",
    "    get_site_file_paths,\n",
    "    get_site_file_info,\n",
    "    get_site_ids,\n",
    "    read_full_demographics_df,\n",
    "    get_visualization_subtitle,\n",
    "    apply_theme,\n",
    ")\n",
    "from web import for_website\n",
    "\n",
    "alt.data_transformers.disable_max_rows() # Allow using rows more than 5000"
   ]
  },
  {
   "cell_type": "code",
   "execution_count": null,
   "metadata": {},
   "outputs": [],
   "source": [
    "DATA_RELEASE = \"2020-06-25\""
   ]
  },
  {
   "cell_type": "code",
   "execution_count": null,
   "metadata": {},
   "outputs": [],
   "source": [
    "df = read_full_demographics_df()"
   ]
  },
  {
   "cell_type": "code",
   "execution_count": null,
   "metadata": {},
   "outputs": [],
   "source": [
    "df"
   ]
  },
  {
   "cell_type": "code",
   "execution_count": null,
   "metadata": {},
   "outputs": [],
   "source": [
    "df = df.replace(-99, np.nan)\n",
    "df = df.replace(-999, np.nan)"
   ]
  },
  {
   "cell_type": "code",
   "execution_count": null,
   "metadata": {},
   "outputs": [],
   "source": [
    "# Some race categories may have zero patients after summing across all sites.\n",
    "zero_patients_by_race_df = (df.groupby(\"race\").sum()[\"num_patients_all\"] == 0).to_frame()\n",
    "races_with_zero_patients = zero_patients_by_race_df.loc[zero_patients_by_race_df[\"num_patients_all\"] == True].index.values.tolist()\n",
    "races_with_zero_patients"
   ]
  },
  {
   "cell_type": "code",
   "execution_count": null,
   "metadata": {},
   "outputs": [],
   "source": [
    "df = df.loc[~df[\"race\"].isin(races_with_zero_patients)]\n",
    "df.head()"
   ]
  },
  {
   "cell_type": "code",
   "execution_count": null,
   "metadata": {},
   "outputs": [],
   "source": [
    "# Human-readable mappings\n",
    "HR_SEVERITY_MAP = {\n",
    "    \"all\": \"All\",\n",
    "    \"ever_severe\": \"Ever Severe\",\n",
    "    \"never_severe\": \"Never Severe\"\n",
    "}\n",
    "HR_SEX_MAP = {\n",
    "    \"all\": \"All\",\n",
    "    \"male\": \"Male\",\n",
    "    \"female\": \"Female\",\n",
    "    \"other\": \"Other\",\n",
    "}\n",
    "HR_AGE_GROUP_MAP = {\n",
    "    \"all\": \"All\",\n",
    "    \"00to02\": \"0 - 2\",\n",
    "    \"03to05\": \"3 - 5\",\n",
    "    \"06to11\": \"6 - 11\",\n",
    "    \"12to17\": \"12 - 17\",\n",
    "    \"18to25\": \"18 - 25\",\n",
    "    \"26to49\": \"26 - 49\",\n",
    "    \"50to69\": \"50 - 69\",\n",
    "    \"70to79\": \"70 - 79\",\n",
    "    \"80plus\": \"80 +\",\n",
    "    \"other\": \"Other\",\n",
    "}\n",
    "HR_RACE_MAP = {\n",
    "    'all': 'All',\n",
    "    'american_indian': 'American Indian or Alaska Native',\n",
    "    'asian': 'Asian',\n",
    "    'black': 'Black',\n",
    "    'hawaiian_pacific_islander': 'Native Hawaiian or Other Pacific Islander',\n",
    "    'hispanic_latino': 'Hispanic or Latino',\n",
    "    'white': 'White',\n",
    "    'other': 'Other',\n",
    "}\n",
    "HR_SEVERITY_COLNAME_MAP = {\n",
    "    \"num_patients_all\": \"All\",\n",
    "    \"num_patients_ever_severe\": \"Ever Severe\",\n",
    "    \"num_patients_never_severe\": \"Never Severe\"\n",
    "}\n",
    "\n",
    "SEVERITY_VALUES = list(HR_SEVERITY_MAP.values())\n",
    "SEX_VALUES = list(HR_SEX_MAP.values())\n",
    "AGE_GROUP_VALUES = list(HR_AGE_GROUP_MAP.values())\n",
    "RACE_VALUES = list(HR_RACE_MAP.values())"
   ]
  },
  {
   "cell_type": "code",
   "execution_count": null,
   "metadata": {},
   "outputs": [],
   "source": [
    "df[\"sex\"] = df[\"sex\"].replace(HR_SEX_MAP)\n",
    "df[\"race\"] = df[\"race\"].replace(HR_RACE_MAP)\n",
    "df[\"age_group\"] = df[\"age_group\"].replace(HR_AGE_GROUP_MAP)"
   ]
  },
  {
   "cell_type": "code",
   "execution_count": null,
   "metadata": {},
   "outputs": [],
   "source": [
    "df[\"num_patients_never_severe\"] = df[\"num_patients_all\"] - df[\"num_patients_ever_severe\"]"
   ]
  },
  {
   "cell_type": "code",
   "execution_count": null,
   "metadata": {},
   "outputs": [],
   "source": [
    "df.head()"
   ]
  },
  {
   "cell_type": "code",
   "execution_count": null,
   "metadata": {},
   "outputs": [],
   "source": [
    "overall_df = df.groupby([\"sex\", \"race\", \"age_group\"]).sum().reset_index()\n",
    "overall_df.head()"
   ]
  },
  {
   "cell_type": "code",
   "execution_count": null,
   "metadata": {},
   "outputs": [],
   "source": [
    "def compute_ci(df):\n",
    "    df[\"p\"] = df[\"num_patients_ever_severe\"] / df[\"num_patients_all\"]\n",
    "    df[\"n\"] = df[\"num_patients_all\"]\n",
    "\n",
    "    def calculate_ci(row, upper=False):\n",
    "        try:\n",
    "            return row[\"p\"] + ((1 if upper else -1) * (1.96 * np.sqrt((row[\"p\"]*(1 - row[\"p\"])) / row[\"n\"])))\n",
    "        except ZeroDivisionError:\n",
    "            return np.nan\n",
    "\n",
    "    df[\"ci_95_lower\"] = df.apply(lambda row: calculate_ci(row, upper=False), axis=1)\n",
    "    df[\"ci_95_upper\"] = df.apply(lambda row: calculate_ci(row, upper=True), axis=1)\n",
    "\n",
    "    df[\"np\"] = df[\"n\"] * df[\"p\"]\n",
    "    df[\"n1minusp\"] = df[\"n\"] * (1 - df[\"p\"])\n",
    "\n",
    "    df[\"p_x100\"] = df[\"p\"] * 100\n",
    "    df[\"ci_95_lower_x100\"] = df[\"ci_95_lower\"] * 100\n",
    "    df[\"ci_95_upper_x100\"] = df[\"ci_95_upper\"] * 100\n",
    "    \n",
    "    \n",
    "    # Clip values < 0 and 100 >\n",
    "    df[\"p_x100\"] = df[\"p_x100\"].clip(lower=0, upper=100)\n",
    "    df[\"ci_95_lower_x100\"] = df[\"ci_95_lower_x100\"].clip(lower=0, upper=100)\n",
    "    df[\"ci_95_upper_x100\"] = df[\"ci_95_upper_x100\"].clip(lower=0, upper=100)\n",
    "    \n",
    "    \n",
    "    return df"
   ]
  },
  {
   "cell_type": "code",
   "execution_count": null,
   "metadata": {},
   "outputs": [],
   "source": [
    "df = compute_ci(df)\n",
    "overall_df = compute_ci(overall_df)"
   ]
  },
  {
   "cell_type": "code",
   "execution_count": null,
   "metadata": {},
   "outputs": [],
   "source": [
    "overall_df.head()"
   ]
  },
  {
   "cell_type": "code",
   "execution_count": null,
   "metadata": {},
   "outputs": [],
   "source": [
    "chart = alt.Chart(overall_df)\n",
    "\n",
    "age_dropdown = alt.binding_select(options=AGE_GROUP_VALUES)\n",
    "age_selection = alt.selection_single(fields=[\"age_group\"], bind=age_dropdown, name=\"Age Group\", init={\"age_group\": \"All\"})\n",
    "\n",
    "filtered_chart = chart.transform_filter(\n",
    "    age_selection\n",
    ")\n",
    "\n",
    "tooltip = [\n",
    "    alt.Tooltip(\"race\", title=\"Race\"),\n",
    "    alt.Tooltip(\"sex\", title=\"Sex\"),\n",
    "    alt.Tooltip(\"age_group\", title=\"Age Group\"),\n",
    "    alt.Tooltip(\"ci_95_lower_x100\", title=\"Percentage Severe, 95% CI Lower\"),\n",
    "    alt.Tooltip(\"p_x100\", title=\"Percentage Severe\"),\n",
    "    alt.Tooltip(\"ci_95_upper_x100\", title=\"Percentage Severe, 95% CI Upper\"),\n",
    "    alt.Tooltip(\"num_patients_all\", title=\"Number of Patients\"),\n",
    "    alt.Tooltip(\"num_patients_ever_severe\", title=\"Number of Patients Ever Severe\"),\n",
    "    alt.Tooltip(\"num_patients_never_severe\", title=\"Number of Patients Never Severe\"),\n",
    "]\n",
    "\n",
    "bar = filtered_chart.mark_point(filled=True, size=80).encode(\n",
    "    x=alt.X(\"sex:N\", axis=alt.Axis(title=\"Sex\")),\n",
    "    color=alt.Color(\"sex:N\", legend=None),\n",
    "    y=alt.Y(\"p_x100:Q\", axis=alt.Axis(title=\"% Severe\")),\n",
    "    tooltip=tooltip\n",
    ").properties(width=150,height=300)\n",
    "\n",
    "\n",
    "errorbar = filtered_chart.mark_errorbar().encode(\n",
    "    x=alt.X(\"sex:N\", axis=alt.Axis(title=\"Sex\")),\n",
    "    y=alt.Y(\"ci_95_upper_x100:Q\", title=\"\"), \n",
    "    y2=alt.Y2(\"ci_95_lower_x100:Q\", title=\"\"),\n",
    "    tooltip=tooltip\n",
    ")\n",
    "\n",
    "plot = alt.layer(bar, errorbar).facet(\n",
    "    column=alt.Column(\n",
    "        \"race:N\",\n",
    "        sort=RACE_VALUES,\n",
    "        header=alt.Header(title=\"Race\")\n",
    "    ),\n",
    ").properties(title={\n",
    "    \"text\": [\"Demographics\"], \n",
    "    \"dx\": 50,\n",
    "    \"subtitle\": get_visualization_subtitle(data_release=DATA_RELEASE),\n",
    "    \"subtitleColor\": \"gray\",\n",
    "    \"anchor\": \"middle\",\n",
    "})\n",
    "\n",
    "plot = apply_theme(plot).configure_mark(\n",
    "    color='orange'\n",
    ").add_selection(\n",
    "    age_selection\n",
    ")\n",
    "\n",
    "plot"
   ]
  },
  {
   "cell_type": "code",
   "execution_count": null,
   "metadata": {},
   "outputs": [],
   "source": []
  },
  {
   "cell_type": "code",
   "execution_count": null,
   "metadata": {},
   "outputs": [],
   "source": []
  },
  {
   "cell_type": "code",
   "execution_count": null,
   "metadata": {},
   "outputs": [],
   "source": []
  },
  {
   "cell_type": "code",
   "execution_count": null,
   "metadata": {},
   "outputs": [],
   "source": []
  }
 ],
 "metadata": {
  "kernelspec": {
   "display_name": "Python [conda env:4ce] *",
   "language": "python",
   "name": "conda-env-4ce-py"
  },
  "language_info": {
   "codemirror_mode": {
    "name": "ipython",
    "version": 3
   },
   "file_extension": ".py",
   "mimetype": "text/x-python",
   "name": "python",
   "nbconvert_exporter": "python",
   "pygments_lexer": "ipython3",
   "version": "3.8.2"
  }
 },
 "nbformat": 4,
 "nbformat_minor": 4
}

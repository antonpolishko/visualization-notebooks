{
 "cells": [
  {
   "cell_type": "code",
   "execution_count": null,
   "metadata": {},
   "outputs": [],
   "source": [
    "%load_ext autoreload\n",
    "%autoreload 2\n",
    "%aimport utils_1_1\n",
    "\n",
    "import pandas as pd\n",
    "import numpy as np\n",
    "import altair as alt\n",
    "from altair_saver import save\n",
    "\n",
    "from constants_1_1 import SITE_FILE_TYPES\n",
    "from utils_1_1 import (\n",
    "    read_loinc_df,\n",
    "    get_site_file_paths,\n",
    "    get_site_file_info,\n",
    "    get_site_ids,\n",
    "    read_full_daily_counts_df,\n",
    "    get_visualization_subtitle,\n",
    "    apply_theme,\n",
    ")\n",
    "from web import for_website\n",
    "\n",
    "alt.data_transformers.disable_max_rows() # Allow using rows more than 5000"
   ]
  },
  {
   "cell_type": "code",
   "execution_count": null,
   "metadata": {},
   "outputs": [],
   "source": [
    "DATA_RELEASE = \"2020-06-15\""
   ]
  },
  {
   "cell_type": "code",
   "execution_count": null,
   "metadata": {},
   "outputs": [],
   "source": [
    "df = read_full_daily_counts_df()"
   ]
  },
  {
   "cell_type": "code",
   "execution_count": null,
   "metadata": {},
   "outputs": [],
   "source": [
    "df"
   ]
  },
  {
   "cell_type": "code",
   "execution_count": null,
   "metadata": {},
   "outputs": [],
   "source": [
    "df.head()"
   ]
  },
  {
   "cell_type": "code",
   "execution_count": null,
   "metadata": {},
   "outputs": [],
   "source": [
    "df = df.replace(-99, np.nan)\n",
    "\n",
    "plot = alt.Chart(df).mark_line().encode(\n",
    "    x=alt.X(\"calendar_date\", axis=alt.Axis(title=\"Date\")),\n",
    "    y=alt.Y(\"num_patients_in_hospital_on_this_date:Q\", axis=alt.Axis(title=\"Number of Patients in Hospital\")),\n",
    "    color=alt.Color(\"siteid:N\", legend=alt.Legend(title=\"Site\"))\n",
    ").properties(title={\n",
    "    \"text\": [\"Number of Hospitalized Patients by Site\"], \n",
    "    \"dx\": 50,\n",
    "    \"subtitle\": get_visualization_subtitle(data_release=DATA_RELEASE),\n",
    "    \"subtitleColor\": \"gray\",\n",
    "    \"anchor\": \"middle\",\n",
    "})\n",
    "\n",
    "plot = apply_theme(plot)\n",
    "\n",
    "plot"
   ]
  },
  {
   "cell_type": "code",
   "execution_count": null,
   "metadata": {},
   "outputs": [],
   "source": [
    "df[\"num_sites\"] = 1\n",
    "country_sum_df = df.groupby([\"country\", \"calendar_date\"]).sum().reset_index()"
   ]
  },
  {
   "cell_type": "code",
   "execution_count": null,
   "metadata": {},
   "outputs": [],
   "source": [
    "country_sum_df"
   ]
  },
  {
   "cell_type": "code",
   "execution_count": null,
   "metadata": {},
   "outputs": [],
   "source": [
    "top_plot = alt.Chart(country_sum_df).mark_line().encode(\n",
    "    x=alt.X(\"calendar_date\", axis=alt.Axis(title=None)),\n",
    "    y=alt.Y(\"num_patients_in_hospital_on_this_date:Q\", axis=alt.Axis(title=\"Number of Patients in Hospital\")),\n",
    "    color=alt.Color(\"country:N\", legend=alt.Legend(title=\"Country\"))\n",
    ")\n",
    "\n",
    "bottom_plot = alt.Chart(country_sum_df).mark_bar().encode(\n",
    "    x=alt.X(\"calendar_date\", axis=alt.Axis(title=\"Date\")),\n",
    "    y=alt.Y(\"num_sites:Q\", axis=alt.Axis(title=\"# of sites\")),\n",
    "    color=alt.Color(\"country:N\", legend=alt.Legend(title=\"Country\"))\n",
    ").properties(height=80)\n",
    "\n",
    "plot = alt.vconcat(top_plot, bottom_plot).resolve_scale(x=\"independent\", color=\"shared\").properties(title={\n",
    "    \"text\": [\"Number of Hospitalized Patients by Country\"], \n",
    "    \"dx\": 50,\n",
    "    \"subtitle\": get_visualization_subtitle(data_release=DATA_RELEASE),\n",
    "    \"subtitleColor\": \"gray\",\n",
    "    \"anchor\": \"middle\",\n",
    "})\n",
    "\n",
    "plot = apply_theme(plot)\n",
    "\n",
    "plot"
   ]
  },
  {
   "cell_type": "code",
   "execution_count": null,
   "metadata": {},
   "outputs": [],
   "source": []
  }
 ],
 "metadata": {
  "kernelspec": {
   "display_name": "Python [conda env:4ce] *",
   "language": "python",
   "name": "conda-env-4ce-py"
  },
  "language_info": {
   "codemirror_mode": {
    "name": "ipython",
    "version": 3
   },
   "file_extension": ".py",
   "mimetype": "text/x-python",
   "name": "python",
   "nbconvert_exporter": "python",
   "pygments_lexer": "ipython3",
   "version": "3.8.2"
  }
 },
 "nbformat": 4,
 "nbformat_minor": 4
}
